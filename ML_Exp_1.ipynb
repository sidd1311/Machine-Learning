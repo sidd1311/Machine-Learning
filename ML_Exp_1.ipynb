{
 "cells": [
  {
   "cell_type": "code",
   "execution_count": 1,
   "id": "ca0845fc",
   "metadata": {},
   "outputs": [],
   "source": [
    "import numpy as np\n",
    "lst1=[1,2,3]\n",
    "array1 = np.array(lst1)"
   ]
  },
  {
   "cell_type": "code",
   "execution_count": 2,
   "id": "afeaec67",
   "metadata": {},
   "outputs": [
    {
     "data": {
      "text/plain": [
       "list"
      ]
     },
     "execution_count": 2,
     "metadata": {},
     "output_type": "execute_result"
    }
   ],
   "source": [
    "\n",
    "type(lst1)"
   ]
  },
  {
   "cell_type": "code",
   "execution_count": 3,
   "id": "797fd0b8",
   "metadata": {},
   "outputs": [
    {
     "data": {
      "text/plain": [
       "numpy.ndarray"
      ]
     },
     "execution_count": 3,
     "metadata": {},
     "output_type": "execute_result"
    }
   ],
   "source": [
    "type(array1)"
   ]
  },
  {
   "cell_type": "code",
   "execution_count": 4,
   "id": "bd4d3056",
   "metadata": {},
   "outputs": [
    {
     "data": {
      "text/plain": [
       "[1, 2, 3]"
      ]
     },
     "execution_count": 4,
     "metadata": {},
     "output_type": "execute_result"
    }
   ],
   "source": [
    "lst1"
   ]
  },
  {
   "cell_type": "code",
   "execution_count": 5,
   "id": "17825475",
   "metadata": {},
   "outputs": [],
   "source": [
    "lst2 = [4,5,6]\n",
    "array2 = np.array(lst2)"
   ]
  },
  {
   "cell_type": "code",
   "execution_count": 6,
   "id": "5ced3451",
   "metadata": {},
   "outputs": [
    {
     "name": "stdout",
     "output_type": "stream",
     "text": [
      "Adding two lists [1, 2, 3] and [4, 5, 6] together: [1, 2, 3, 4, 5, 6]\n"
     ]
    }
   ],
   "source": [
    "print(f\"Adding two lists {lst1} and {lst2} together: {lst1+lst2}\")"
   ]
  },
  {
   "cell_type": "code",
   "execution_count": 7,
   "id": "59631505",
   "metadata": {},
   "outputs": [
    {
     "name": "stdout",
     "output_type": "stream",
     "text": [
      "Adding two numpy arrays [1 2 3] and [4 5 6] together: [5 7 9]\n"
     ]
    }
   ],
   "source": [
    "print(f\"Adding two numpy arrays {array1} and {array2} together: {array1+array2}\")"
   ]
  },
  {
   "cell_type": "code",
   "execution_count": 8,
   "id": "fbe9993d",
   "metadata": {},
   "outputs": [
    {
     "name": "stdout",
     "output_type": "stream",
     "text": [
      "array2 multiplied by array1:  [ 4 10 18]\n"
     ]
    }
   ],
   "source": [
    "print(\"array2 multiplied by array1: \",array1*array2)"
   ]
  },
  {
   "cell_type": "code",
   "execution_count": 9,
   "id": "e178ed08",
   "metadata": {},
   "outputs": [
    {
     "name": "stdout",
     "output_type": "stream",
     "text": [
      "array2 divided by array1:  [4.  2.5 2. ]\n"
     ]
    }
   ],
   "source": [
    "print(\"array2 divided by array1: \",array2/array1)"
   ]
  },
  {
   "cell_type": "code",
   "execution_count": 10,
   "id": "5b384607",
   "metadata": {},
   "outputs": [
    {
     "name": "stdout",
     "output_type": "stream",
     "text": [
      "array2 raised to the power of array1:  [  4  25 216]\n"
     ]
    }
   ],
   "source": [
    "print(\"array2 raised to the power of array1: \",array2**array1)"
   ]
  },
  {
   "cell_type": "code",
   "execution_count": 11,
   "id": "8e46d434",
   "metadata": {},
   "outputs": [
    {
     "name": "stdout",
     "output_type": "stream",
     "text": [
      "Sine:  [0.84147098 0.90929743 0.14112001]\n"
     ]
    }
   ],
   "source": [
    "# sine function\n",
    "print(\"Sine: \",np.sin(array1))"
   ]
  },
  {
   "cell_type": "code",
   "execution_count": 16,
   "id": "4a3562b9",
   "metadata": {},
   "outputs": [
    {
     "name": "stdout",
     "output_type": "stream",
     "text": [
      "Natural logarithm:  [0.         0.69314718 1.09861229]\n",
      "Natural logarithm:  [1.38629436 1.60943791 1.79175947]\n"
     ]
    }
   ],
   "source": [
    "# logarithm\n",
    "print(\"Natural logarithm: \",np.log(array1))\n",
    "print(\"Natural logarithm: \",np.log(array2))"
   ]
  },
  {
   "cell_type": "code",
   "execution_count": 17,
   "id": "b6332f7b",
   "metadata": {},
   "outputs": [
    {
     "name": "stdout",
     "output_type": "stream",
     "text": [
      "Base-10 logarithm:  [0.         0.30103    0.47712125]\n",
      "Base-10 logarithm:  [0.60205999 0.69897    0.77815125]\n"
     ]
    }
   ],
   "source": [
    "print(\"Base-10 logarithm: \",np.log10(array1))\n",
    "print(\"Base-10 logarithm: \",np.log10(array2))"
   ]
  },
  {
   "cell_type": "code",
   "execution_count": 19,
   "id": "49d0d178",
   "metadata": {},
   "outputs": [
    {
     "name": "stdout",
     "output_type": "stream",
     "text": [
      "Base-2 logarithm:  [0.        1.        1.5849625]\n",
      "Base-2 logarithm:  [2.         2.32192809 2.5849625 ]\n"
     ]
    }
   ],
   "source": [
    "print(\"Base-2 logarithm: \",np.log2(array1))\n",
    "print(\"Base-2 logarithm: \",np.log2(array2))"
   ]
  },
  {
   "cell_type": "code",
   "execution_count": 20,
   "id": "ff7ab44a",
   "metadata": {},
   "outputs": [
    {
     "name": "stdout",
     "output_type": "stream",
     "text": [
      "Exponential:  [ 2.71828183  7.3890561  20.08553692]\n",
      "Exponential:  [ 54.59815003 148.4131591  403.42879349]\n"
     ]
    }
   ],
   "source": [
    "# Exponential\n",
    "print(\"Exponential: \",np.exp(array1))\n",
    "print(\"Exponential: \",np.exp(array2))"
   ]
  },
  {
   "cell_type": "code",
   "execution_count": 21,
   "id": "abc3e10e",
   "metadata": {},
   "outputs": [
    {
     "name": "stdout",
     "output_type": "stream",
     "text": [
      "A series of zeroes: [0. 0. 0. 0. 0. 0. 0.]\n"
     ]
    }
   ],
   "source": [
    "print(\"A series of zeroes:\",np.zeros(7))"
   ]
  },
  {
   "cell_type": "code",
   "execution_count": 22,
   "id": "257e5415",
   "metadata": {},
   "outputs": [
    {
     "name": "stdout",
     "output_type": "stream",
     "text": [
      "A series of ones: [1. 1. 1. 1. 1. 1. 1. 1. 1.]\n"
     ]
    }
   ],
   "source": [
    "print(\"A series of ones:\",np.ones(9))"
   ]
  },
  {
   "cell_type": "code",
   "execution_count": 23,
   "id": "7000d38f",
   "metadata": {},
   "outputs": [
    {
     "name": "stdout",
     "output_type": "stream",
     "text": [
      "A series of numbers: [ 5  6  7  8  9 10 11 12 13 14 15]\n"
     ]
    }
   ],
   "source": [
    "print(\"A series of numbers:\",np.arange(5,16))"
   ]
  },
  {
   "cell_type": "code",
   "execution_count": 24,
   "id": "50a6e87b",
   "metadata": {},
   "outputs": [
    {
     "name": "stdout",
     "output_type": "stream",
     "text": [
      "Numbers spaced apart by 2: [ 0  2  4  6  8 10]\n"
     ]
    }
   ],
   "source": [
    "print(\"Numbers spaced apart by 2:\",np.arange(0,11,2))"
   ]
  },
  {
   "cell_type": "code",
   "execution_count": 25,
   "id": "86f2c4f9",
   "metadata": {},
   "outputs": [
    {
     "name": "stdout",
     "output_type": "stream",
     "text": [
      "Numbers spaced apart by float: [ 0.   2.5  5.   7.5 10. ]\n"
     ]
    }
   ],
   "source": [
    "print(\"Numbers spaced apart by float:\",np.arange(0,11,2.5))"
   ]
  },
  {
   "cell_type": "code",
   "execution_count": 26,
   "id": "2a1e5c12",
   "metadata": {},
   "outputs": [
    {
     "name": "stdout",
     "output_type": "stream",
     "text": [
      "Every 5th number from 30 in reverse order:  [30 25 20 15 10  5  0]\n"
     ]
    }
   ],
   "source": [
    "print(\"Every 5th number from 30 in reverse order: \",np.arange(30,-1,-5))"
   ]
  },
  {
   "cell_type": "code",
   "execution_count": 27,
   "id": "d562e346",
   "metadata": {},
   "outputs": [
    {
     "name": "stdout",
     "output_type": "stream",
     "text": [
      "11 linearly spaced numbers between 1 and 5:  [1.  1.4 1.8 2.2 2.6 3.  3.4 3.8 4.2 4.6 5. ]\n"
     ]
    }
   ],
   "source": [
    "print(\"11 linearly spaced numbers between 1 and 5: \",np.linspace(1,5,11))"
   ]
  },
  {
   "cell_type": "code",
   "execution_count": 32,
   "id": "e9b586c4",
   "metadata": {},
   "outputs": [],
   "source": [
    "# create a 2-D array\n",
    "z = np.array([[1,2,3],[4,5,6]])"
   ]
  },
  {
   "cell_type": "code",
   "execution_count": 33,
   "id": "34a72d21",
   "metadata": {},
   "outputs": [
    {
     "name": "stdout",
     "output_type": "stream",
     "text": [
      "[[1 2 3]\n",
      " [4 5 6]]\n",
      "2\n"
     ]
    }
   ],
   "source": [
    "# print this 2-D array\n",
    "print(z)\n",
    "# check the dimension of numpy array z\n",
    "print(z.ndim)"
   ]
  },
  {
   "cell_type": "code",
   "execution_count": 34,
   "id": "2cb8a8d7",
   "metadata": {},
   "outputs": [],
   "source": [
    "# create a 3-D array\n",
    "k = np.array([[[1,2,3],[4,5,6]], [[7,8,9],[10,11,12]]])"
   ]
  },
  {
   "cell_type": "code",
   "execution_count": 35,
   "id": "c5fd129a",
   "metadata": {},
   "outputs": [
    {
     "name": "stdout",
     "output_type": "stream",
     "text": [
      "[[[ 1  2  3]\n",
      "  [ 4  5  6]]\n",
      "\n",
      " [[ 7  8  9]\n",
      "  [10 11 12]]]\n",
      "3\n"
     ]
    }
   ],
   "source": [
    "# print this 3-D array\n",
    "print(k)\n",
    "# check the dimension of numpy array k\n",
    "print(k.ndim)"
   ]
  },
  {
   "cell_type": "code",
   "execution_count": 36,
   "id": "38525b9e",
   "metadata": {},
   "outputs": [
    {
     "name": "stdout",
     "output_type": "stream",
     "text": [
      "[7 5 8 6 9 1]\n",
      "-------\n",
      "[1 5 6 7 8 9]\n"
     ]
    }
   ],
   "source": [
    "# sort the array\n",
    "p = np.array([7,5,8,6,9,1])\n",
    "q = np.sort(p)\n",
    "print(p)\n",
    "print('-------')\n",
    "print(q)"
   ]
  },
  {
   "cell_type": "code",
   "execution_count": 37,
   "id": "854b6fa7",
   "metadata": {},
   "outputs": [
    {
     "name": "stdout",
     "output_type": "stream",
     "text": [
      "[2. 3. 4. 5.]\n"
     ]
    }
   ],
   "source": [
    "# find square root of values of numpy array\n",
    "p = np.array([4,9,16,25])\n",
    "q = np.sqrt(p)\n",
    "print(q)"
   ]
  },
  {
   "cell_type": "code",
   "execution_count": 38,
   "id": "f994acab",
   "metadata": {},
   "outputs": [],
   "source": [
    "#PANDAS\n",
    "import pandas as pd"
   ]
  },
  {
   "cell_type": "code",
   "execution_count": 39,
   "id": "e8d53fa5",
   "metadata": {},
   "outputs": [
    {
     "name": "stdout",
     "output_type": "stream",
     "text": [
      "Labels: ['a', 'b', 'c']\n"
     ]
    }
   ],
   "source": [
    "labels = ['a','b','c']\n",
    "print (\"Labels:\", labels)"
   ]
  },
  {
   "cell_type": "code",
   "execution_count": 40,
   "id": "48abbcf2",
   "metadata": {},
   "outputs": [
    {
     "name": "stdout",
     "output_type": "stream",
     "text": [
      "My data: [10, 20, 30]\n"
     ]
    }
   ],
   "source": [
    "my_data = [10,20,30]\n",
    "arr = np.array(my_data)\n",
    "print(\"My data:\", my_data)"
   ]
  },
  {
   "cell_type": "code",
   "execution_count": 41,
   "id": "d383dbd9",
   "metadata": {},
   "outputs": [
    {
     "name": "stdout",
     "output_type": "stream",
     "text": [
      "Dictionary: {'a': 10, 'b': 20, 'c': 30}\n"
     ]
    }
   ],
   "source": [
    "d = {'a':10,'b':20,'c':30}\n",
    "print(\"Dictionary:\", d)"
   ]
  },
  {
   "cell_type": "code",
   "execution_count": 42,
   "id": "86ba9bbe",
   "metadata": {},
   "outputs": [
    {
     "name": "stdout",
     "output_type": "stream",
     "text": [
      "0    10\n",
      "1    20\n",
      "2    30\n",
      "dtype: int64\n"
     ]
    }
   ],
   "source": [
    "s1=pd.Series(data=my_data)\n",
    "print(s1)"
   ]
  },
  {
   "cell_type": "code",
   "execution_count": 43,
   "id": "bc194933",
   "metadata": {},
   "outputs": [
    {
     "name": "stdout",
     "output_type": "stream",
     "text": [
      "a    10\n",
      "b    20\n",
      "c    30\n",
      "dtype: int64\n"
     ]
    }
   ],
   "source": [
    "s2=pd.Series(data=my_data, index=labels)\n",
    "print(s2)"
   ]
  },
  {
   "cell_type": "code",
   "execution_count": 44,
   "id": "13257ecc",
   "metadata": {},
   "outputs": [
    {
     "name": "stdout",
     "output_type": "stream",
     "text": [
      "a    10\n",
      "b    20\n",
      "c    30\n",
      "dtype: int32\n"
     ]
    }
   ],
   "source": [
    "s3=pd.Series(arr, labels)\n",
    "print(s3)"
   ]
  },
  {
   "cell_type": "code",
   "execution_count": 45,
   "id": "b5e5c541",
   "metadata": {},
   "outputs": [
    {
     "name": "stdout",
     "output_type": "stream",
     "text": [
      "a    10\n",
      "b    20\n",
      "c    30\n",
      "dtype: int64\n"
     ]
    }
   ],
   "source": [
    "s4=pd.Series(d)\n",
    "print(s4)"
   ]
  },
  {
   "cell_type": "code",
   "execution_count": 47,
   "id": "e239674e",
   "metadata": {},
   "outputs": [],
   "source": [
    "matrix_data = np.random.randint(1,25,size=25).reshape(5,5)\n",
    "row_labels = ['A','B','C','D','E']\n",
    "column_headings = ['V','W','X','Y','Z']"
   ]
  },
  {
   "cell_type": "code",
   "execution_count": 48,
   "id": "efd1f1c9",
   "metadata": {},
   "outputs": [
    {
     "name": "stdout",
     "output_type": "stream",
     "text": [
      "\n",
      "The data frame looks like\n",
      "---------------------------------------------\n",
      "    V   W   X   Y   Z\n",
      "A   8  17  19  20   4\n",
      "B  13   4  18  14   2\n",
      "C   4  10  10   6   9\n",
      "D  11   2  21  13  17\n",
      "E  10   1  19  13  16\n"
     ]
    }
   ],
   "source": [
    "df = pd.DataFrame(data=matrix_data, index=row_labels, columns=column_headings)\n",
    "print(\"\\nThe data frame looks like\\n\",'-'*45, sep='')\n",
    "print(df)"
   ]
  },
  {
   "cell_type": "code",
   "execution_count": 49,
   "id": "5e5889a7",
   "metadata": {},
   "outputs": [
    {
     "name": "stdout",
     "output_type": "stream",
     "text": [
      "    a   b   c\n",
      "X  10  30  50\n",
      "Y  20  40  60\n"
     ]
    }
   ],
   "source": [
    "d={'a':[10,20],'b':[30,40],'c':[50,60]}\n",
    "df2=pd.DataFrame(data=d,index=['X','Y'])\n",
    "print(df2)"
   ]
  },
  {
   "cell_type": "code",
   "execution_count": 50,
   "id": "6abc77a4",
   "metadata": {},
   "outputs": [],
   "source": [
    "df = pd.read_csv('practice_dataset.csv')"
   ]
  },
  {
   "cell_type": "code",
   "execution_count": 51,
   "id": "33a5861a",
   "metadata": {},
   "outputs": [
    {
     "name": "stdout",
     "output_type": "stream",
     "text": [
      "<class 'pandas.core.frame.DataFrame'>\n",
      "RangeIndex: 32 entries, 0 to 31\n",
      "Data columns (total 5 columns):\n",
      " #   Column    Non-Null Count  Dtype  \n",
      "---  ------    --------------  -----  \n",
      " 0   Duration  32 non-null     int64  \n",
      " 1   Date      31 non-null     object \n",
      " 2   Pulse     32 non-null     int64  \n",
      " 3   Maxpulse  32 non-null     int64  \n",
      " 4   Calories  30 non-null     float64\n",
      "dtypes: float64(1), int64(3), object(1)\n",
      "memory usage: 1.4+ KB\n"
     ]
    }
   ],
   "source": [
    "df.info()"
   ]
  },
  {
   "cell_type": "code",
   "execution_count": 52,
   "id": "f7129123",
   "metadata": {},
   "outputs": [
    {
     "data": {
      "text/html": [
       "<div>\n",
       "<style scoped>\n",
       "    .dataframe tbody tr th:only-of-type {\n",
       "        vertical-align: middle;\n",
       "    }\n",
       "\n",
       "    .dataframe tbody tr th {\n",
       "        vertical-align: top;\n",
       "    }\n",
       "\n",
       "    .dataframe thead th {\n",
       "        text-align: right;\n",
       "    }\n",
       "</style>\n",
       "<table border=\"1\" class=\"dataframe\">\n",
       "  <thead>\n",
       "    <tr style=\"text-align: right;\">\n",
       "      <th></th>\n",
       "      <th>Duration</th>\n",
       "      <th>Pulse</th>\n",
       "      <th>Maxpulse</th>\n",
       "      <th>Calories</th>\n",
       "    </tr>\n",
       "  </thead>\n",
       "  <tbody>\n",
       "    <tr>\n",
       "      <th>count</th>\n",
       "      <td>32.000000</td>\n",
       "      <td>32.000000</td>\n",
       "      <td>32.000000</td>\n",
       "      <td>30.000000</td>\n",
       "    </tr>\n",
       "    <tr>\n",
       "      <th>mean</th>\n",
       "      <td>68.437500</td>\n",
       "      <td>103.500000</td>\n",
       "      <td>128.500000</td>\n",
       "      <td>304.680000</td>\n",
       "    </tr>\n",
       "    <tr>\n",
       "      <th>std</th>\n",
       "      <td>70.039591</td>\n",
       "      <td>7.832933</td>\n",
       "      <td>12.998759</td>\n",
       "      <td>66.003779</td>\n",
       "    </tr>\n",
       "    <tr>\n",
       "      <th>min</th>\n",
       "      <td>30.000000</td>\n",
       "      <td>90.000000</td>\n",
       "      <td>101.000000</td>\n",
       "      <td>195.100000</td>\n",
       "    </tr>\n",
       "    <tr>\n",
       "      <th>25%</th>\n",
       "      <td>60.000000</td>\n",
       "      <td>100.000000</td>\n",
       "      <td>120.000000</td>\n",
       "      <td>250.700000</td>\n",
       "    </tr>\n",
       "    <tr>\n",
       "      <th>50%</th>\n",
       "      <td>60.000000</td>\n",
       "      <td>102.500000</td>\n",
       "      <td>127.500000</td>\n",
       "      <td>291.200000</td>\n",
       "    </tr>\n",
       "    <tr>\n",
       "      <th>75%</th>\n",
       "      <td>60.000000</td>\n",
       "      <td>106.500000</td>\n",
       "      <td>132.250000</td>\n",
       "      <td>343.975000</td>\n",
       "    </tr>\n",
       "    <tr>\n",
       "      <th>max</th>\n",
       "      <td>450.000000</td>\n",
       "      <td>130.000000</td>\n",
       "      <td>175.000000</td>\n",
       "      <td>479.000000</td>\n",
       "    </tr>\n",
       "  </tbody>\n",
       "</table>\n",
       "</div>"
      ],
      "text/plain": [
       "         Duration       Pulse    Maxpulse    Calories\n",
       "count   32.000000   32.000000   32.000000   30.000000\n",
       "mean    68.437500  103.500000  128.500000  304.680000\n",
       "std     70.039591    7.832933   12.998759   66.003779\n",
       "min     30.000000   90.000000  101.000000  195.100000\n",
       "25%     60.000000  100.000000  120.000000  250.700000\n",
       "50%     60.000000  102.500000  127.500000  291.200000\n",
       "75%     60.000000  106.500000  132.250000  343.975000\n",
       "max    450.000000  130.000000  175.000000  479.000000"
      ]
     },
     "execution_count": 52,
     "metadata": {},
     "output_type": "execute_result"
    }
   ],
   "source": [
    "df.describe()"
   ]
  },
  {
   "cell_type": "code",
   "execution_count": 53,
   "id": "a58020f8",
   "metadata": {},
   "outputs": [
    {
     "data": {
      "text/html": [
       "<div>\n",
       "<style scoped>\n",
       "    .dataframe tbody tr th:only-of-type {\n",
       "        vertical-align: middle;\n",
       "    }\n",
       "\n",
       "    .dataframe tbody tr th {\n",
       "        vertical-align: top;\n",
       "    }\n",
       "\n",
       "    .dataframe thead th {\n",
       "        text-align: right;\n",
       "    }\n",
       "</style>\n",
       "<table border=\"1\" class=\"dataframe\">\n",
       "  <thead>\n",
       "    <tr style=\"text-align: right;\">\n",
       "      <th></th>\n",
       "      <th>Duration</th>\n",
       "      <th>Date</th>\n",
       "      <th>Pulse</th>\n",
       "      <th>Maxpulse</th>\n",
       "      <th>Calories</th>\n",
       "    </tr>\n",
       "  </thead>\n",
       "  <tbody>\n",
       "    <tr>\n",
       "      <th>0</th>\n",
       "      <td>60</td>\n",
       "      <td>'2020/12/01'</td>\n",
       "      <td>110</td>\n",
       "      <td>130</td>\n",
       "      <td>409.1</td>\n",
       "    </tr>\n",
       "    <tr>\n",
       "      <th>1</th>\n",
       "      <td>60</td>\n",
       "      <td>'2020/12/02'</td>\n",
       "      <td>117</td>\n",
       "      <td>145</td>\n",
       "      <td>479.0</td>\n",
       "    </tr>\n",
       "    <tr>\n",
       "      <th>2</th>\n",
       "      <td>60</td>\n",
       "      <td>'2020/12/03'</td>\n",
       "      <td>103</td>\n",
       "      <td>135</td>\n",
       "      <td>340.0</td>\n",
       "    </tr>\n",
       "    <tr>\n",
       "      <th>3</th>\n",
       "      <td>45</td>\n",
       "      <td>'2020/12/04'</td>\n",
       "      <td>109</td>\n",
       "      <td>175</td>\n",
       "      <td>282.4</td>\n",
       "    </tr>\n",
       "    <tr>\n",
       "      <th>4</th>\n",
       "      <td>45</td>\n",
       "      <td>'2020/12/05'</td>\n",
       "      <td>117</td>\n",
       "      <td>148</td>\n",
       "      <td>406.0</td>\n",
       "    </tr>\n",
       "  </tbody>\n",
       "</table>\n",
       "</div>"
      ],
      "text/plain": [
       "   Duration          Date  Pulse  Maxpulse  Calories\n",
       "0        60  '2020/12/01'    110       130     409.1\n",
       "1        60  '2020/12/02'    117       145     479.0\n",
       "2        60  '2020/12/03'    103       135     340.0\n",
       "3        45  '2020/12/04'    109       175     282.4\n",
       "4        45  '2020/12/05'    117       148     406.0"
      ]
     },
     "execution_count": 53,
     "metadata": {},
     "output_type": "execute_result"
    }
   ],
   "source": [
    "df.head()"
   ]
  },
  {
   "cell_type": "code",
   "execution_count": 54,
   "id": "cc933a68",
   "metadata": {},
   "outputs": [
    {
     "data": {
      "text/html": [
       "<div>\n",
       "<style scoped>\n",
       "    .dataframe tbody tr th:only-of-type {\n",
       "        vertical-align: middle;\n",
       "    }\n",
       "\n",
       "    .dataframe tbody tr th {\n",
       "        vertical-align: top;\n",
       "    }\n",
       "\n",
       "    .dataframe thead th {\n",
       "        text-align: right;\n",
       "    }\n",
       "</style>\n",
       "<table border=\"1\" class=\"dataframe\">\n",
       "  <thead>\n",
       "    <tr style=\"text-align: right;\">\n",
       "      <th></th>\n",
       "      <th>Duration</th>\n",
       "      <th>Date</th>\n",
       "      <th>Pulse</th>\n",
       "      <th>Maxpulse</th>\n",
       "      <th>Calories</th>\n",
       "    </tr>\n",
       "  </thead>\n",
       "  <tbody>\n",
       "    <tr>\n",
       "      <th>0</th>\n",
       "      <td>60</td>\n",
       "      <td>'2020/12/01'</td>\n",
       "      <td>110</td>\n",
       "      <td>130</td>\n",
       "      <td>409.1</td>\n",
       "    </tr>\n",
       "    <tr>\n",
       "      <th>1</th>\n",
       "      <td>60</td>\n",
       "      <td>'2020/12/02'</td>\n",
       "      <td>117</td>\n",
       "      <td>145</td>\n",
       "      <td>479.0</td>\n",
       "    </tr>\n",
       "    <tr>\n",
       "      <th>2</th>\n",
       "      <td>60</td>\n",
       "      <td>'2020/12/03'</td>\n",
       "      <td>103</td>\n",
       "      <td>135</td>\n",
       "      <td>340.0</td>\n",
       "    </tr>\n",
       "    <tr>\n",
       "      <th>3</th>\n",
       "      <td>45</td>\n",
       "      <td>'2020/12/04'</td>\n",
       "      <td>109</td>\n",
       "      <td>175</td>\n",
       "      <td>282.4</td>\n",
       "    </tr>\n",
       "    <tr>\n",
       "      <th>4</th>\n",
       "      <td>45</td>\n",
       "      <td>'2020/12/05'</td>\n",
       "      <td>117</td>\n",
       "      <td>148</td>\n",
       "      <td>406.0</td>\n",
       "    </tr>\n",
       "    <tr>\n",
       "      <th>5</th>\n",
       "      <td>60</td>\n",
       "      <td>'2020/12/06'</td>\n",
       "      <td>102</td>\n",
       "      <td>127</td>\n",
       "      <td>300.0</td>\n",
       "    </tr>\n",
       "    <tr>\n",
       "      <th>6</th>\n",
       "      <td>60</td>\n",
       "      <td>'2020/12/07'</td>\n",
       "      <td>110</td>\n",
       "      <td>136</td>\n",
       "      <td>374.0</td>\n",
       "    </tr>\n",
       "    <tr>\n",
       "      <th>7</th>\n",
       "      <td>450</td>\n",
       "      <td>'2020/12/08'</td>\n",
       "      <td>104</td>\n",
       "      <td>134</td>\n",
       "      <td>253.3</td>\n",
       "    </tr>\n",
       "    <tr>\n",
       "      <th>8</th>\n",
       "      <td>30</td>\n",
       "      <td>'2020/12/09'</td>\n",
       "      <td>109</td>\n",
       "      <td>133</td>\n",
       "      <td>195.1</td>\n",
       "    </tr>\n",
       "    <tr>\n",
       "      <th>9</th>\n",
       "      <td>60</td>\n",
       "      <td>'2020/12/10'</td>\n",
       "      <td>98</td>\n",
       "      <td>124</td>\n",
       "      <td>269.0</td>\n",
       "    </tr>\n",
       "    <tr>\n",
       "      <th>10</th>\n",
       "      <td>60</td>\n",
       "      <td>'2020/12/11'</td>\n",
       "      <td>103</td>\n",
       "      <td>147</td>\n",
       "      <td>329.3</td>\n",
       "    </tr>\n",
       "    <tr>\n",
       "      <th>11</th>\n",
       "      <td>60</td>\n",
       "      <td>'2020/12/12'</td>\n",
       "      <td>100</td>\n",
       "      <td>120</td>\n",
       "      <td>250.7</td>\n",
       "    </tr>\n",
       "    <tr>\n",
       "      <th>12</th>\n",
       "      <td>60</td>\n",
       "      <td>'2020/12/12'</td>\n",
       "      <td>100</td>\n",
       "      <td>120</td>\n",
       "      <td>250.7</td>\n",
       "    </tr>\n",
       "    <tr>\n",
       "      <th>13</th>\n",
       "      <td>60</td>\n",
       "      <td>'2020/12/13'</td>\n",
       "      <td>106</td>\n",
       "      <td>128</td>\n",
       "      <td>345.3</td>\n",
       "    </tr>\n",
       "    <tr>\n",
       "      <th>14</th>\n",
       "      <td>60</td>\n",
       "      <td>'2020/12/14'</td>\n",
       "      <td>104</td>\n",
       "      <td>132</td>\n",
       "      <td>379.3</td>\n",
       "    </tr>\n",
       "  </tbody>\n",
       "</table>\n",
       "</div>"
      ],
      "text/plain": [
       "    Duration          Date  Pulse  Maxpulse  Calories\n",
       "0         60  '2020/12/01'    110       130     409.1\n",
       "1         60  '2020/12/02'    117       145     479.0\n",
       "2         60  '2020/12/03'    103       135     340.0\n",
       "3         45  '2020/12/04'    109       175     282.4\n",
       "4         45  '2020/12/05'    117       148     406.0\n",
       "5         60  '2020/12/06'    102       127     300.0\n",
       "6         60  '2020/12/07'    110       136     374.0\n",
       "7        450  '2020/12/08'    104       134     253.3\n",
       "8         30  '2020/12/09'    109       133     195.1\n",
       "9         60  '2020/12/10'     98       124     269.0\n",
       "10        60  '2020/12/11'    103       147     329.3\n",
       "11        60  '2020/12/12'    100       120     250.7\n",
       "12        60  '2020/12/12'    100       120     250.7\n",
       "13        60  '2020/12/13'    106       128     345.3\n",
       "14        60  '2020/12/14'    104       132     379.3"
      ]
     },
     "execution_count": 54,
     "metadata": {},
     "output_type": "execute_result"
    }
   ],
   "source": [
    "df.head(15)"
   ]
  },
  {
   "cell_type": "code",
   "execution_count": 55,
   "id": "c1b36925",
   "metadata": {},
   "outputs": [
    {
     "data": {
      "text/html": [
       "<div>\n",
       "<style scoped>\n",
       "    .dataframe tbody tr th:only-of-type {\n",
       "        vertical-align: middle;\n",
       "    }\n",
       "\n",
       "    .dataframe tbody tr th {\n",
       "        vertical-align: top;\n",
       "    }\n",
       "\n",
       "    .dataframe thead th {\n",
       "        text-align: right;\n",
       "    }\n",
       "</style>\n",
       "<table border=\"1\" class=\"dataframe\">\n",
       "  <thead>\n",
       "    <tr style=\"text-align: right;\">\n",
       "      <th></th>\n",
       "      <th>Duration</th>\n",
       "      <th>Date</th>\n",
       "      <th>Pulse</th>\n",
       "      <th>Maxpulse</th>\n",
       "      <th>Calories</th>\n",
       "    </tr>\n",
       "  </thead>\n",
       "  <tbody>\n",
       "    <tr>\n",
       "      <th>27</th>\n",
       "      <td>60</td>\n",
       "      <td>'2020/12/27'</td>\n",
       "      <td>92</td>\n",
       "      <td>118</td>\n",
       "      <td>241.0</td>\n",
       "    </tr>\n",
       "    <tr>\n",
       "      <th>28</th>\n",
       "      <td>60</td>\n",
       "      <td>'2020/12/28'</td>\n",
       "      <td>103</td>\n",
       "      <td>132</td>\n",
       "      <td>NaN</td>\n",
       "    </tr>\n",
       "    <tr>\n",
       "      <th>29</th>\n",
       "      <td>60</td>\n",
       "      <td>'2020/12/29'</td>\n",
       "      <td>100</td>\n",
       "      <td>132</td>\n",
       "      <td>280.0</td>\n",
       "    </tr>\n",
       "    <tr>\n",
       "      <th>30</th>\n",
       "      <td>60</td>\n",
       "      <td>'2020/12/30'</td>\n",
       "      <td>102</td>\n",
       "      <td>129</td>\n",
       "      <td>380.3</td>\n",
       "    </tr>\n",
       "    <tr>\n",
       "      <th>31</th>\n",
       "      <td>60</td>\n",
       "      <td>'2020/12/31'</td>\n",
       "      <td>92</td>\n",
       "      <td>115</td>\n",
       "      <td>243.0</td>\n",
       "    </tr>\n",
       "  </tbody>\n",
       "</table>\n",
       "</div>"
      ],
      "text/plain": [
       "    Duration          Date  Pulse  Maxpulse  Calories\n",
       "27        60  '2020/12/27'     92       118     241.0\n",
       "28        60  '2020/12/28'    103       132       NaN\n",
       "29        60  '2020/12/29'    100       132     280.0\n",
       "30        60  '2020/12/30'    102       129     380.3\n",
       "31        60  '2020/12/31'     92       115     243.0"
      ]
     },
     "execution_count": 55,
     "metadata": {},
     "output_type": "execute_result"
    }
   ],
   "source": [
    "df.tail()"
   ]
  },
  {
   "cell_type": "code",
   "execution_count": 56,
   "id": "e2b0566c",
   "metadata": {},
   "outputs": [
    {
     "name": "stderr",
     "output_type": "stream",
     "text": [
      "C:\\Users\\Siddharth\\AppData\\Local\\Temp\\ipykernel_11716\\1134722465.py:1: FutureWarning: The default value of numeric_only in DataFrame.corr is deprecated. In a future version, it will default to False. Select only valid columns or specify the value of numeric_only to silence this warning.\n",
      "  df.corr()\n"
     ]
    },
    {
     "data": {
      "text/html": [
       "<div>\n",
       "<style scoped>\n",
       "    .dataframe tbody tr th:only-of-type {\n",
       "        vertical-align: middle;\n",
       "    }\n",
       "\n",
       "    .dataframe tbody tr th {\n",
       "        vertical-align: top;\n",
       "    }\n",
       "\n",
       "    .dataframe thead th {\n",
       "        text-align: right;\n",
       "    }\n",
       "</style>\n",
       "<table border=\"1\" class=\"dataframe\">\n",
       "  <thead>\n",
       "    <tr style=\"text-align: right;\">\n",
       "      <th></th>\n",
       "      <th>Duration</th>\n",
       "      <th>Pulse</th>\n",
       "      <th>Maxpulse</th>\n",
       "      <th>Calories</th>\n",
       "    </tr>\n",
       "  </thead>\n",
       "  <tbody>\n",
       "    <tr>\n",
       "      <th>Duration</th>\n",
       "      <td>1.000000</td>\n",
       "      <td>0.004410</td>\n",
       "      <td>0.049959</td>\n",
       "      <td>-0.114169</td>\n",
       "    </tr>\n",
       "    <tr>\n",
       "      <th>Pulse</th>\n",
       "      <td>0.004410</td>\n",
       "      <td>1.000000</td>\n",
       "      <td>0.276583</td>\n",
       "      <td>0.513186</td>\n",
       "    </tr>\n",
       "    <tr>\n",
       "      <th>Maxpulse</th>\n",
       "      <td>0.049959</td>\n",
       "      <td>0.276583</td>\n",
       "      <td>1.000000</td>\n",
       "      <td>0.357460</td>\n",
       "    </tr>\n",
       "    <tr>\n",
       "      <th>Calories</th>\n",
       "      <td>-0.114169</td>\n",
       "      <td>0.513186</td>\n",
       "      <td>0.357460</td>\n",
       "      <td>1.000000</td>\n",
       "    </tr>\n",
       "  </tbody>\n",
       "</table>\n",
       "</div>"
      ],
      "text/plain": [
       "          Duration     Pulse  Maxpulse  Calories\n",
       "Duration  1.000000  0.004410  0.049959 -0.114169\n",
       "Pulse     0.004410  1.000000  0.276583  0.513186\n",
       "Maxpulse  0.049959  0.276583  1.000000  0.357460\n",
       "Calories -0.114169  0.513186  0.357460  1.000000"
      ]
     },
     "execution_count": 56,
     "metadata": {},
     "output_type": "execute_result"
    }
   ],
   "source": [
    "#Finding Correlation b/w col of dataset\n",
    "df.corr()"
   ]
  },
  {
   "cell_type": "code",
   "execution_count": 57,
   "id": "817043c5",
   "metadata": {},
   "outputs": [
    {
     "data": {
      "text/html": [
       "<div>\n",
       "<style scoped>\n",
       "    .dataframe tbody tr th:only-of-type {\n",
       "        vertical-align: middle;\n",
       "    }\n",
       "\n",
       "    .dataframe tbody tr th {\n",
       "        vertical-align: top;\n",
       "    }\n",
       "\n",
       "    .dataframe thead th {\n",
       "        text-align: right;\n",
       "    }\n",
       "</style>\n",
       "<table border=\"1\" class=\"dataframe\">\n",
       "  <thead>\n",
       "    <tr style=\"text-align: right;\">\n",
       "      <th></th>\n",
       "      <th>Duration</th>\n",
       "      <th>Date</th>\n",
       "      <th>Pulse</th>\n",
       "      <th>Maxpulse</th>\n",
       "      <th>Calories</th>\n",
       "    </tr>\n",
       "  </thead>\n",
       "  <tbody>\n",
       "    <tr>\n",
       "      <th>0</th>\n",
       "      <td>False</td>\n",
       "      <td>False</td>\n",
       "      <td>False</td>\n",
       "      <td>False</td>\n",
       "      <td>False</td>\n",
       "    </tr>\n",
       "    <tr>\n",
       "      <th>1</th>\n",
       "      <td>False</td>\n",
       "      <td>False</td>\n",
       "      <td>False</td>\n",
       "      <td>False</td>\n",
       "      <td>False</td>\n",
       "    </tr>\n",
       "    <tr>\n",
       "      <th>2</th>\n",
       "      <td>False</td>\n",
       "      <td>False</td>\n",
       "      <td>False</td>\n",
       "      <td>False</td>\n",
       "      <td>False</td>\n",
       "    </tr>\n",
       "    <tr>\n",
       "      <th>3</th>\n",
       "      <td>False</td>\n",
       "      <td>False</td>\n",
       "      <td>False</td>\n",
       "      <td>False</td>\n",
       "      <td>False</td>\n",
       "    </tr>\n",
       "    <tr>\n",
       "      <th>4</th>\n",
       "      <td>False</td>\n",
       "      <td>False</td>\n",
       "      <td>False</td>\n",
       "      <td>False</td>\n",
       "      <td>False</td>\n",
       "    </tr>\n",
       "    <tr>\n",
       "      <th>5</th>\n",
       "      <td>False</td>\n",
       "      <td>False</td>\n",
       "      <td>False</td>\n",
       "      <td>False</td>\n",
       "      <td>False</td>\n",
       "    </tr>\n",
       "    <tr>\n",
       "      <th>6</th>\n",
       "      <td>False</td>\n",
       "      <td>False</td>\n",
       "      <td>False</td>\n",
       "      <td>False</td>\n",
       "      <td>False</td>\n",
       "    </tr>\n",
       "    <tr>\n",
       "      <th>7</th>\n",
       "      <td>False</td>\n",
       "      <td>False</td>\n",
       "      <td>False</td>\n",
       "      <td>False</td>\n",
       "      <td>False</td>\n",
       "    </tr>\n",
       "    <tr>\n",
       "      <th>8</th>\n",
       "      <td>False</td>\n",
       "      <td>False</td>\n",
       "      <td>False</td>\n",
       "      <td>False</td>\n",
       "      <td>False</td>\n",
       "    </tr>\n",
       "    <tr>\n",
       "      <th>9</th>\n",
       "      <td>False</td>\n",
       "      <td>False</td>\n",
       "      <td>False</td>\n",
       "      <td>False</td>\n",
       "      <td>False</td>\n",
       "    </tr>\n",
       "    <tr>\n",
       "      <th>10</th>\n",
       "      <td>False</td>\n",
       "      <td>False</td>\n",
       "      <td>False</td>\n",
       "      <td>False</td>\n",
       "      <td>False</td>\n",
       "    </tr>\n",
       "    <tr>\n",
       "      <th>11</th>\n",
       "      <td>False</td>\n",
       "      <td>False</td>\n",
       "      <td>False</td>\n",
       "      <td>False</td>\n",
       "      <td>False</td>\n",
       "    </tr>\n",
       "    <tr>\n",
       "      <th>12</th>\n",
       "      <td>False</td>\n",
       "      <td>False</td>\n",
       "      <td>False</td>\n",
       "      <td>False</td>\n",
       "      <td>False</td>\n",
       "    </tr>\n",
       "    <tr>\n",
       "      <th>13</th>\n",
       "      <td>False</td>\n",
       "      <td>False</td>\n",
       "      <td>False</td>\n",
       "      <td>False</td>\n",
       "      <td>False</td>\n",
       "    </tr>\n",
       "    <tr>\n",
       "      <th>14</th>\n",
       "      <td>False</td>\n",
       "      <td>False</td>\n",
       "      <td>False</td>\n",
       "      <td>False</td>\n",
       "      <td>False</td>\n",
       "    </tr>\n",
       "    <tr>\n",
       "      <th>15</th>\n",
       "      <td>False</td>\n",
       "      <td>False</td>\n",
       "      <td>False</td>\n",
       "      <td>False</td>\n",
       "      <td>False</td>\n",
       "    </tr>\n",
       "    <tr>\n",
       "      <th>16</th>\n",
       "      <td>False</td>\n",
       "      <td>False</td>\n",
       "      <td>False</td>\n",
       "      <td>False</td>\n",
       "      <td>False</td>\n",
       "    </tr>\n",
       "    <tr>\n",
       "      <th>17</th>\n",
       "      <td>False</td>\n",
       "      <td>False</td>\n",
       "      <td>False</td>\n",
       "      <td>False</td>\n",
       "      <td>False</td>\n",
       "    </tr>\n",
       "    <tr>\n",
       "      <th>18</th>\n",
       "      <td>False</td>\n",
       "      <td>False</td>\n",
       "      <td>False</td>\n",
       "      <td>False</td>\n",
       "      <td>True</td>\n",
       "    </tr>\n",
       "    <tr>\n",
       "      <th>19</th>\n",
       "      <td>False</td>\n",
       "      <td>False</td>\n",
       "      <td>False</td>\n",
       "      <td>False</td>\n",
       "      <td>False</td>\n",
       "    </tr>\n",
       "    <tr>\n",
       "      <th>20</th>\n",
       "      <td>False</td>\n",
       "      <td>False</td>\n",
       "      <td>False</td>\n",
       "      <td>False</td>\n",
       "      <td>False</td>\n",
       "    </tr>\n",
       "    <tr>\n",
       "      <th>21</th>\n",
       "      <td>False</td>\n",
       "      <td>False</td>\n",
       "      <td>False</td>\n",
       "      <td>False</td>\n",
       "      <td>False</td>\n",
       "    </tr>\n",
       "    <tr>\n",
       "      <th>22</th>\n",
       "      <td>False</td>\n",
       "      <td>True</td>\n",
       "      <td>False</td>\n",
       "      <td>False</td>\n",
       "      <td>False</td>\n",
       "    </tr>\n",
       "    <tr>\n",
       "      <th>23</th>\n",
       "      <td>False</td>\n",
       "      <td>False</td>\n",
       "      <td>False</td>\n",
       "      <td>False</td>\n",
       "      <td>False</td>\n",
       "    </tr>\n",
       "    <tr>\n",
       "      <th>24</th>\n",
       "      <td>False</td>\n",
       "      <td>False</td>\n",
       "      <td>False</td>\n",
       "      <td>False</td>\n",
       "      <td>False</td>\n",
       "    </tr>\n",
       "    <tr>\n",
       "      <th>25</th>\n",
       "      <td>False</td>\n",
       "      <td>False</td>\n",
       "      <td>False</td>\n",
       "      <td>False</td>\n",
       "      <td>False</td>\n",
       "    </tr>\n",
       "    <tr>\n",
       "      <th>26</th>\n",
       "      <td>False</td>\n",
       "      <td>False</td>\n",
       "      <td>False</td>\n",
       "      <td>False</td>\n",
       "      <td>False</td>\n",
       "    </tr>\n",
       "    <tr>\n",
       "      <th>27</th>\n",
       "      <td>False</td>\n",
       "      <td>False</td>\n",
       "      <td>False</td>\n",
       "      <td>False</td>\n",
       "      <td>False</td>\n",
       "    </tr>\n",
       "    <tr>\n",
       "      <th>28</th>\n",
       "      <td>False</td>\n",
       "      <td>False</td>\n",
       "      <td>False</td>\n",
       "      <td>False</td>\n",
       "      <td>True</td>\n",
       "    </tr>\n",
       "    <tr>\n",
       "      <th>29</th>\n",
       "      <td>False</td>\n",
       "      <td>False</td>\n",
       "      <td>False</td>\n",
       "      <td>False</td>\n",
       "      <td>False</td>\n",
       "    </tr>\n",
       "    <tr>\n",
       "      <th>30</th>\n",
       "      <td>False</td>\n",
       "      <td>False</td>\n",
       "      <td>False</td>\n",
       "      <td>False</td>\n",
       "      <td>False</td>\n",
       "    </tr>\n",
       "    <tr>\n",
       "      <th>31</th>\n",
       "      <td>False</td>\n",
       "      <td>False</td>\n",
       "      <td>False</td>\n",
       "      <td>False</td>\n",
       "      <td>False</td>\n",
       "    </tr>\n",
       "  </tbody>\n",
       "</table>\n",
       "</div>"
      ],
      "text/plain": [
       "    Duration   Date  Pulse  Maxpulse  Calories\n",
       "0      False  False  False     False     False\n",
       "1      False  False  False     False     False\n",
       "2      False  False  False     False     False\n",
       "3      False  False  False     False     False\n",
       "4      False  False  False     False     False\n",
       "5      False  False  False     False     False\n",
       "6      False  False  False     False     False\n",
       "7      False  False  False     False     False\n",
       "8      False  False  False     False     False\n",
       "9      False  False  False     False     False\n",
       "10     False  False  False     False     False\n",
       "11     False  False  False     False     False\n",
       "12     False  False  False     False     False\n",
       "13     False  False  False     False     False\n",
       "14     False  False  False     False     False\n",
       "15     False  False  False     False     False\n",
       "16     False  False  False     False     False\n",
       "17     False  False  False     False     False\n",
       "18     False  False  False     False      True\n",
       "19     False  False  False     False     False\n",
       "20     False  False  False     False     False\n",
       "21     False  False  False     False     False\n",
       "22     False   True  False     False     False\n",
       "23     False  False  False     False     False\n",
       "24     False  False  False     False     False\n",
       "25     False  False  False     False     False\n",
       "26     False  False  False     False     False\n",
       "27     False  False  False     False     False\n",
       "28     False  False  False     False      True\n",
       "29     False  False  False     False     False\n",
       "30     False  False  False     False     False\n",
       "31     False  False  False     False     False"
      ]
     },
     "execution_count": 57,
     "metadata": {},
     "output_type": "execute_result"
    }
   ],
   "source": [
    "df.isnull()"
   ]
  },
  {
   "cell_type": "code",
   "execution_count": 58,
   "id": "de90dc5b",
   "metadata": {},
   "outputs": [
    {
     "data": {
      "text/html": [
       "<div>\n",
       "<style scoped>\n",
       "    .dataframe tbody tr th:only-of-type {\n",
       "        vertical-align: middle;\n",
       "    }\n",
       "\n",
       "    .dataframe tbody tr th {\n",
       "        vertical-align: top;\n",
       "    }\n",
       "\n",
       "    .dataframe thead th {\n",
       "        text-align: right;\n",
       "    }\n",
       "</style>\n",
       "<table border=\"1\" class=\"dataframe\">\n",
       "  <thead>\n",
       "    <tr style=\"text-align: right;\">\n",
       "      <th></th>\n",
       "      <th>Duration</th>\n",
       "      <th>Date</th>\n",
       "      <th>Pulse</th>\n",
       "      <th>Maxpulse</th>\n",
       "      <th>Calories</th>\n",
       "    </tr>\n",
       "  </thead>\n",
       "  <tbody>\n",
       "    <tr>\n",
       "      <th>16</th>\n",
       "      <td>60</td>\n",
       "      <td>'2020/12/16'</td>\n",
       "      <td>98</td>\n",
       "      <td>120</td>\n",
       "      <td>215.2</td>\n",
       "    </tr>\n",
       "    <tr>\n",
       "      <th>3</th>\n",
       "      <td>45</td>\n",
       "      <td>'2020/12/04'</td>\n",
       "      <td>109</td>\n",
       "      <td>175</td>\n",
       "      <td>282.4</td>\n",
       "    </tr>\n",
       "    <tr>\n",
       "      <th>28</th>\n",
       "      <td>60</td>\n",
       "      <td>'2020/12/28'</td>\n",
       "      <td>103</td>\n",
       "      <td>132</td>\n",
       "      <td>NaN</td>\n",
       "    </tr>\n",
       "    <tr>\n",
       "      <th>24</th>\n",
       "      <td>45</td>\n",
       "      <td>'2020/12/24'</td>\n",
       "      <td>105</td>\n",
       "      <td>132</td>\n",
       "      <td>246.0</td>\n",
       "    </tr>\n",
       "    <tr>\n",
       "      <th>19</th>\n",
       "      <td>60</td>\n",
       "      <td>'2020/12/19'</td>\n",
       "      <td>103</td>\n",
       "      <td>123</td>\n",
       "      <td>323.0</td>\n",
       "    </tr>\n",
       "    <tr>\n",
       "      <th>0</th>\n",
       "      <td>60</td>\n",
       "      <td>'2020/12/01'</td>\n",
       "      <td>110</td>\n",
       "      <td>130</td>\n",
       "      <td>409.1</td>\n",
       "    </tr>\n",
       "    <tr>\n",
       "      <th>13</th>\n",
       "      <td>60</td>\n",
       "      <td>'2020/12/13'</td>\n",
       "      <td>106</td>\n",
       "      <td>128</td>\n",
       "      <td>345.3</td>\n",
       "    </tr>\n",
       "  </tbody>\n",
       "</table>\n",
       "</div>"
      ],
      "text/plain": [
       "    Duration          Date  Pulse  Maxpulse  Calories\n",
       "16        60  '2020/12/16'     98       120     215.2\n",
       "3         45  '2020/12/04'    109       175     282.4\n",
       "28        60  '2020/12/28'    103       132       NaN\n",
       "24        45  '2020/12/24'    105       132     246.0\n",
       "19        60  '2020/12/19'    103       123     323.0\n",
       "0         60  '2020/12/01'    110       130     409.1\n",
       "13        60  '2020/12/13'    106       128     345.3"
      ]
     },
     "execution_count": 58,
     "metadata": {},
     "output_type": "execute_result"
    }
   ],
   "source": [
    "df.sample(7)"
   ]
  },
  {
   "cell_type": "code",
   "execution_count": 59,
   "id": "24c6ed75",
   "metadata": {},
   "outputs": [
    {
     "data": {
      "text/html": [
       "<div>\n",
       "<style scoped>\n",
       "    .dataframe tbody tr th:only-of-type {\n",
       "        vertical-align: middle;\n",
       "    }\n",
       "\n",
       "    .dataframe tbody tr th {\n",
       "        vertical-align: top;\n",
       "    }\n",
       "\n",
       "    .dataframe thead th {\n",
       "        text-align: right;\n",
       "    }\n",
       "</style>\n",
       "<table border=\"1\" class=\"dataframe\">\n",
       "  <thead>\n",
       "    <tr style=\"text-align: right;\">\n",
       "      <th></th>\n",
       "      <th>count</th>\n",
       "      <th>mean</th>\n",
       "      <th>std</th>\n",
       "      <th>min</th>\n",
       "      <th>25%</th>\n",
       "      <th>50%</th>\n",
       "      <th>75%</th>\n",
       "      <th>max</th>\n",
       "    </tr>\n",
       "  </thead>\n",
       "  <tbody>\n",
       "    <tr>\n",
       "      <th>Duration</th>\n",
       "      <td>32.0</td>\n",
       "      <td>68.4375</td>\n",
       "      <td>70.039591</td>\n",
       "      <td>30.0</td>\n",
       "      <td>60.0</td>\n",
       "      <td>60.0</td>\n",
       "      <td>60.000</td>\n",
       "      <td>450.0</td>\n",
       "    </tr>\n",
       "    <tr>\n",
       "      <th>Pulse</th>\n",
       "      <td>32.0</td>\n",
       "      <td>103.5000</td>\n",
       "      <td>7.832933</td>\n",
       "      <td>90.0</td>\n",
       "      <td>100.0</td>\n",
       "      <td>102.5</td>\n",
       "      <td>106.500</td>\n",
       "      <td>130.0</td>\n",
       "    </tr>\n",
       "    <tr>\n",
       "      <th>Maxpulse</th>\n",
       "      <td>32.0</td>\n",
       "      <td>128.5000</td>\n",
       "      <td>12.998759</td>\n",
       "      <td>101.0</td>\n",
       "      <td>120.0</td>\n",
       "      <td>127.5</td>\n",
       "      <td>132.250</td>\n",
       "      <td>175.0</td>\n",
       "    </tr>\n",
       "    <tr>\n",
       "      <th>Calories</th>\n",
       "      <td>30.0</td>\n",
       "      <td>304.6800</td>\n",
       "      <td>66.003779</td>\n",
       "      <td>195.1</td>\n",
       "      <td>250.7</td>\n",
       "      <td>291.2</td>\n",
       "      <td>343.975</td>\n",
       "      <td>479.0</td>\n",
       "    </tr>\n",
       "  </tbody>\n",
       "</table>\n",
       "</div>"
      ],
      "text/plain": [
       "          count      mean        std    min    25%    50%      75%    max\n",
       "Duration   32.0   68.4375  70.039591   30.0   60.0   60.0   60.000  450.0\n",
       "Pulse      32.0  103.5000   7.832933   90.0  100.0  102.5  106.500  130.0\n",
       "Maxpulse   32.0  128.5000  12.998759  101.0  120.0  127.5  132.250  175.0\n",
       "Calories   30.0  304.6800  66.003779  195.1  250.7  291.2  343.975  479.0"
      ]
     },
     "execution_count": 59,
     "metadata": {},
     "output_type": "execute_result"
    }
   ],
   "source": [
    "df.describe().transpose()"
   ]
  },
  {
   "cell_type": "code",
   "execution_count": 60,
   "id": "145190cd",
   "metadata": {},
   "outputs": [
    {
     "name": "stderr",
     "output_type": "stream",
     "text": [
      "C:\\Users\\Siddharth\\AppData\\Local\\Temp\\ipykernel_11716\\3698961737.py:1: FutureWarning: The default value of numeric_only in DataFrame.mean is deprecated. In a future version, it will default to False. In addition, specifying 'numeric_only=None' is deprecated. Select only valid columns or specify the value of numeric_only to silence this warning.\n",
      "  df.mean()\n"
     ]
    },
    {
     "data": {
      "text/plain": [
       "Duration     68.4375\n",
       "Pulse       103.5000\n",
       "Maxpulse    128.5000\n",
       "Calories    304.6800\n",
       "dtype: float64"
      ]
     },
     "execution_count": 60,
     "metadata": {},
     "output_type": "execute_result"
    }
   ],
   "source": [
    "df.mean()"
   ]
  },
  {
   "cell_type": "code",
   "execution_count": 61,
   "id": "2261fa47",
   "metadata": {},
   "outputs": [
    {
     "name": "stderr",
     "output_type": "stream",
     "text": [
      "C:\\Users\\Siddharth\\AppData\\Local\\Temp\\ipykernel_11716\\3390915376.py:1: FutureWarning: The default value of numeric_only in DataFrame.std is deprecated. In a future version, it will default to False. In addition, specifying 'numeric_only=None' is deprecated. Select only valid columns or specify the value of numeric_only to silence this warning.\n",
      "  df.std()\n"
     ]
    },
    {
     "data": {
      "text/plain": [
       "Duration    70.039591\n",
       "Pulse        7.832933\n",
       "Maxpulse    12.998759\n",
       "Calories    66.003779\n",
       "dtype: float64"
      ]
     },
     "execution_count": 61,
     "metadata": {},
     "output_type": "execute_result"
    }
   ],
   "source": [
    "df.std()"
   ]
  },
  {
   "cell_type": "code",
   "execution_count": 62,
   "id": "d218245c",
   "metadata": {},
   "outputs": [
    {
     "name": "stderr",
     "output_type": "stream",
     "text": [
      "C:\\Users\\Siddharth\\AppData\\Local\\Temp\\ipykernel_11716\\1568254755.py:1: FutureWarning: The default value of numeric_only in DataFrame.var is deprecated. In a future version, it will default to False. In addition, specifying 'numeric_only=None' is deprecated. Select only valid columns or specify the value of numeric_only to silence this warning.\n",
      "  df.var()\n"
     ]
    },
    {
     "data": {
      "text/plain": [
       "Duration    4905.544355\n",
       "Pulse         61.354839\n",
       "Maxpulse     168.967742\n",
       "Calories    4356.498897\n",
       "dtype: float64"
      ]
     },
     "execution_count": 62,
     "metadata": {},
     "output_type": "execute_result"
    }
   ],
   "source": [
    "df.var()"
   ]
  },
  {
   "cell_type": "code",
   "execution_count": 68,
   "id": "5a5fd4d5",
   "metadata": {},
   "outputs": [
    {
     "name": "stderr",
     "output_type": "stream",
     "text": [
      "C:\\Users\\Siddharth\\AppData\\Local\\Temp\\ipykernel_11716\\2316870759.py:1: FutureWarning: The default value of numeric_only in DataFrame.min is deprecated. In a future version, it will default to False. In addition, specifying 'numeric_only=None' is deprecated. Select only valid columns or specify the value of numeric_only to silence this warning.\n",
      "  df.min()\n"
     ]
    },
    {
     "data": {
      "text/plain": [
       "Duration     30.0\n",
       "Pulse        90.0\n",
       "Maxpulse    101.0\n",
       "Calories    195.1\n",
       "dtype: float64"
      ]
     },
     "execution_count": 68,
     "metadata": {},
     "output_type": "execute_result"
    }
   ],
   "source": [
    "df.min()\n"
   ]
  },
  {
   "cell_type": "code",
   "execution_count": 64,
   "id": "b9533176",
   "metadata": {},
   "outputs": [
    {
     "name": "stderr",
     "output_type": "stream",
     "text": [
      "C:\\Users\\Siddharth\\AppData\\Local\\Temp\\ipykernel_11716\\1151452817.py:1: FutureWarning: The default value of numeric_only in DataFrame.max is deprecated. In a future version, it will default to False. In addition, specifying 'numeric_only=None' is deprecated. Select only valid columns or specify the value of numeric_only to silence this warning.\n",
      "  df.max()\n"
     ]
    },
    {
     "data": {
      "text/plain": [
       "Duration    450.0\n",
       "Pulse       130.0\n",
       "Maxpulse    175.0\n",
       "Calories    479.0\n",
       "dtype: float64"
      ]
     },
     "execution_count": 64,
     "metadata": {},
     "output_type": "execute_result"
    }
   ],
   "source": [
    "df.max()"
   ]
  },
  {
   "cell_type": "code",
   "execution_count": 65,
   "id": "bc89b281",
   "metadata": {},
   "outputs": [
    {
     "name": "stderr",
     "output_type": "stream",
     "text": [
      "C:\\Users\\Siddharth\\AppData\\Local\\Temp\\ipykernel_11716\\3962516015.py:1: FutureWarning: The default value of numeric_only in DataFrame.min is deprecated. In a future version, it will default to False. In addition, specifying 'numeric_only=None' is deprecated. Select only valid columns or specify the value of numeric_only to silence this warning.\n",
      "  df.min()\n"
     ]
    },
    {
     "data": {
      "text/plain": [
       "Duration     30.0\n",
       "Pulse        90.0\n",
       "Maxpulse    101.0\n",
       "Calories    195.1\n",
       "dtype: float64"
      ]
     },
     "execution_count": 65,
     "metadata": {},
     "output_type": "execute_result"
    }
   ],
   "source": [
    "df.min()"
   ]
  },
  {
   "cell_type": "code",
   "execution_count": 66,
   "id": "328e7878",
   "metadata": {},
   "outputs": [
    {
     "name": "stdout",
     "output_type": "stream",
     "text": [
      "\n",
      " The 'Duration' column\n",
      "-------------------------\n",
      "0      60\n",
      "1      60\n",
      "2      60\n",
      "3      45\n",
      "4      45\n",
      "5      60\n",
      "6      60\n",
      "7     450\n",
      "8      30\n",
      "9      60\n",
      "10     60\n",
      "11     60\n",
      "12     60\n",
      "13     60\n",
      "14     60\n",
      "15     60\n",
      "16     60\n",
      "17     60\n",
      "18     45\n",
      "19     60\n",
      "20     45\n",
      "21     60\n",
      "22     45\n",
      "23     60\n",
      "24     45\n",
      "25     60\n",
      "26     60\n",
      "27     60\n",
      "28     60\n",
      "29     60\n",
      "30     60\n",
      "31     60\n",
      "Name: Duration, dtype: int64\n"
     ]
    }
   ],
   "source": [
    "print(\"\\n The 'Duration' column\\n\", '-'*25, sep = '')\n",
    "print(df['Duration'])"
   ]
  },
  {
   "cell_type": "code",
   "execution_count": 67,
   "id": "fd282d2f",
   "metadata": {},
   "outputs": [
    {
     "name": "stdout",
     "output_type": "stream",
     "text": [
      "\n",
      "Type of the column: <class 'pandas.core.series.Series'>\n"
     ]
    }
   ],
   "source": [
    "print(\"\\nType of the column: \", type(df['Duration']), sep='')"
   ]
  },
  {
   "cell_type": "code",
   "execution_count": null,
   "id": "4dc65f7c",
   "metadata": {},
   "outputs": [],
   "source": []
  }
 ],
 "metadata": {
  "kernelspec": {
   "display_name": "Python 3 (ipykernel)",
   "language": "python",
   "name": "python3"
  },
  "language_info": {
   "codemirror_mode": {
    "name": "ipython",
    "version": 3
   },
   "file_extension": ".py",
   "mimetype": "text/x-python",
   "name": "python",
   "nbconvert_exporter": "python",
   "pygments_lexer": "ipython3",
   "version": "3.11.4"
  }
 },
 "nbformat": 4,
 "nbformat_minor": 5
}
