{
  "nbformat": 4,
  "nbformat_minor": 0,
  "metadata": {
    "colab": {
      "provenance": [],
      "authorship_tag": "ABX9TyNRcy9+GcSXJlzHFCRTeqsM",
      "include_colab_link": true
    },
    "kernelspec": {
      "name": "python3",
      "display_name": "Python 3"
    },
    "language_info": {
      "name": "python"
    }
  },
  "cells": [
    {
      "cell_type": "markdown",
      "metadata": {
        "id": "view-in-github",
        "colab_type": "text"
      },
      "source": [
        "<a href=\"https://colab.research.google.com/github/sidd1311/Machine-Learning/blob/main/ML_EXP_9.ipynb\" target=\"_parent\"><img src=\"https://colab.research.google.com/assets/colab-badge.svg\" alt=\"Open In Colab\"/></a>"
      ]
    },
    {
      "cell_type": "code",
      "execution_count": null,
      "metadata": {
        "colab": {
          "base_uri": "https://localhost:8080/"
        },
        "id": "2pJJoYE0HFa1",
        "outputId": "e548c519-cd75-4b83-a9dc-198b8ffd5585"
      },
      "outputs": [
        {
          "output_type": "stream",
          "name": "stdout",
          "text": [
            "Slope (m): 0.6\n",
            "Intercept (c): 2.2\n",
            "Predicted Y values: [2.8, 3.4, 4.0, 4.6, 5.2]\n",
            "Mean Squared Error:  0.48\n"
          ]
        }
      ],
      "source": [
        "def linear_regression(X, Y):\n",
        "    n = len(X)\n",
        "\n",
        "    mean_x = sum(X) / n\n",
        "\n",
        "    mean_y = sum(Y) / n\n",
        "\n",
        "    x_minus_mean_x = [x - mean_x for x in X] #Storing in array\n",
        "    y_minus_mean_y = [y - mean_y for y in Y] #Storing in array\n",
        "    #sum of (x - x_)*(y - y_) / sum of (x - x_)2\n",
        "    numerator = sum(x_minus_mean_x[i] * y_minus_mean_y[i] for i in range(n))\n",
        "    denominator = sum(x_minus_mean_x[i] ** 2 for i in range(n))\n",
        "    m = numerator / denominator\n",
        "    c = mean_y - (m * mean_x)\n",
        "\n",
        "    return m, c\n",
        "\n",
        "def error(Y, p_Y):\n",
        "    n = len(Y)\n",
        "    mse = sum( (Y[i] - p_Y[i])**2 for i in range(n))/n\n",
        "    return round(mse, 2)\n",
        "\n",
        "def predict(X, m, c):\n",
        "    return [round(m * x + c, 2) for x in X]\n",
        "\n",
        "X = [1, 2, 3, 4, 5]\n",
        "Y = [2, 4, 5, 4, 5]\n",
        "\n",
        "m, c = linear_regression(X, Y)\n",
        "print(\"Slope (m):\", m)\n",
        "print(\"Intercept (c):\", c)\n",
        "\n",
        "predicted_Y = predict(X, m, c)\n",
        "mean_sq_err = error(Y, predicted_Y)\n",
        "print(\"Predicted Y values:\", predicted_Y)\n",
        "print(\"Mean Squared Error: \", mean_sq_err)\n"
      ]
    },
    {
      "cell_type": "code",
      "source": [
        "#uSING iNBUILT LIBRARIES\n",
        "\n",
        "import numpy as np\n",
        "from sklearn.linear_model import LinearRegression\n",
        "from sklearn.metrics import mean_squared_error\n"
      ],
      "metadata": {
        "id": "UjPfpAkgMX5G"
      },
      "execution_count": null,
      "outputs": []
    },
    {
      "cell_type": "code",
      "source": [
        "\n",
        "X = np.array([1, 2, 3, 4, 5]).reshape(-1, 1) # Reshaped for sklearn\n",
        "Y = np.array([2, 4, 5, 4, 5])  # Actual Y values\n",
        "\n",
        "model = LinearRegression()\n",
        "model.fit(X, Y)\n",
        "m = model.coef_[0]  # Slope\n",
        "c = model.intercept_  # Intercept\n",
        "\n",
        "# Predict Y values\n",
        "predicted_Y = model.predict(X)\n",
        "predicted_Y = np.round(predicted_Y, 2)  # Round to 2 decimal places\n",
        "\n",
        "mse = mean_squared_error(Y, predicted_Y)\n",
        "\n",
        "print(\"Slope (m):\", round(m, 2))\n",
        "print(\"Intercept (c):\", round(c, 2))\n",
        "print(\"Predicted Y values:\", predicted_Y.tolist())\n",
        "print(\"Mean Squared Error (MSE):\", round(mse, 2))\n",
        "\n"
      ],
      "metadata": {
        "colab": {
          "base_uri": "https://localhost:8080/"
        },
        "id": "Zrhn0OeqMBkx",
        "outputId": "2cd59981-2c1c-462c-b691-0d5791248621"
      },
      "execution_count": null,
      "outputs": [
        {
          "output_type": "stream",
          "name": "stdout",
          "text": [
            "Slope (m): 0.6\n",
            "Intercept (c): 2.2\n",
            "Predicted Y values: [2.8, 3.4, 4.0, 4.6, 5.2]\n",
            "Mean Squared Error (MSE): 0.48\n"
          ]
        }
      ]
    }
  ]
}