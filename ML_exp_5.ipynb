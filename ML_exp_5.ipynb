{
  "nbformat": 4,
  "nbformat_minor": 0,
  "metadata": {
    "colab": {
      "provenance": [],
      "include_colab_link": true
    },
    "kernelspec": {
      "name": "python3",
      "display_name": "Python 3"
    },
    "language_info": {
      "name": "python"
    }
  },
  "cells": [
    {
      "cell_type": "markdown",
      "metadata": {
        "id": "view-in-github",
        "colab_type": "text"
      },
      "source": [
        "<a href=\"https://colab.research.google.com/github/sidd1311/Machine-Learning/blob/main/ML_exp_5.ipynb\" target=\"_parent\"><img src=\"https://colab.research.google.com/assets/colab-badge.svg\" alt=\"Open In Colab\"/></a>"
      ]
    },
    {
      "cell_type": "code",
      "source": [
        "import pandas as pd\n",
        "import seaborn as sns"
      ],
      "metadata": {
        "id": "F9hIwKJKJ3O_"
      },
      "execution_count": null,
      "outputs": []
    },
    {
      "cell_type": "code",
      "source": [
        "# Load Titanic dataset\n",
        "df = sns.load_dataset('titanic')"
      ],
      "metadata": {
        "id": "aHZuQ_l3J59-"
      },
      "execution_count": null,
      "outputs": []
    },
    {
      "cell_type": "code",
      "source": [
        "missing_values = df.isnull().sum()\n",
        "print(\"Missing values in each column:\\n\", missing_values)"
      ],
      "metadata": {
        "colab": {
          "base_uri": "https://localhost:8080/"
        },
        "id": "EZJjXBADKIlG",
        "outputId": "cf89c773-57e8-495c-df02-61ffef9f6a00"
      },
      "execution_count": null,
      "outputs": [
        {
          "output_type": "stream",
          "name": "stdout",
          "text": [
            "Missing values in each column:\n",
            " survived         0\n",
            "pclass           0\n",
            "sex              0\n",
            "age            177\n",
            "sibsp            0\n",
            "parch            0\n",
            "fare             0\n",
            "embarked         2\n",
            "class            0\n",
            "who              0\n",
            "adult_male       0\n",
            "deck           688\n",
            "embark_town      2\n",
            "alive            0\n",
            "alone            0\n",
            "dtype: int64\n"
          ]
        }
      ]
    },
    {
      "cell_type": "code",
      "source": [
        "num_survived = df['survived'].sum()\n",
        "print(\"\\nNumber of people survived:\", num_survived)\n"
      ],
      "metadata": {
        "colab": {
          "base_uri": "https://localhost:8080/"
        },
        "id": "pWKwDo73KPVe",
        "outputId": "38f0b5f6-dfee-4e3e-8f1e-f121787f3b87"
      },
      "execution_count": null,
      "outputs": [
        {
          "output_type": "stream",
          "name": "stdout",
          "text": [
            "\n",
            "Number of people survived: 342\n"
          ]
        }
      ]
    },
    {
      "cell_type": "code",
      "source": [
        "gender_survival = df[df['survived'] == 1]['sex'].value_counts()\n",
        "print(\"\\nNumber of male and female survivors:\\n\", gender_survival)"
      ],
      "metadata": {
        "colab": {
          "base_uri": "https://localhost:8080/"
        },
        "id": "cgSps5tUKcBe",
        "outputId": "7e5e2f2a-263f-4150-ee2a-bcfdada3d93d"
      },
      "execution_count": null,
      "outputs": [
        {
          "output_type": "stream",
          "name": "stdout",
          "text": [
            "\n",
            "Number of male and female survivors:\n",
            " sex\n",
            "female    233\n",
            "male      109\n",
            "Name: count, dtype: int64\n"
          ]
        }
      ]
    },
    {
      "cell_type": "code",
      "source": [
        "avg_age_survived = df[df['survived'] == 1]['age'].mean()\n",
        "print(\"\\nAverage age of survivors:\", avg_age_survived)"
      ],
      "metadata": {
        "colab": {
          "base_uri": "https://localhost:8080/"
        },
        "id": "mJx9jkuaKf5m",
        "outputId": "ae3c5875-b057-4de7-bbfa-a6dfad7f0e34"
      },
      "execution_count": null,
      "outputs": [
        {
          "output_type": "stream",
          "name": "stdout",
          "text": [
            "\n",
            "Average age of survivors: 28.343689655172415\n"
          ]
        }
      ]
    },
    {
      "cell_type": "code",
      "source": [
        "min_age_survived = df[df['survived'] == 1]['age'].min()\n",
        "max_age_survived = df[df['survived'] == 1]['age'].max()\n",
        "print(\"\\nMinimum age of survivors:\", min_age_survived)\n",
        "print(\"Maximum age of survivors:\", max_age_survived)"
      ],
      "metadata": {
        "colab": {
          "base_uri": "https://localhost:8080/"
        },
        "id": "wyPPral_Khru",
        "outputId": "07262a35-9463-48ce-b96d-271fd15c448a"
      },
      "execution_count": null,
      "outputs": [
        {
          "output_type": "stream",
          "name": "stdout",
          "text": [
            "\n",
            "Minimum age of survivors: 0.42\n",
            "Maximum age of survivors: 80.0\n"
          ]
        }
      ]
    },
    {
      "cell_type": "code",
      "source": [
        "class_survival = df.groupby('class')['survived'].sum()\n",
        "print(\"\\nSurvival count based on class:\\n\", class_survival)"
      ],
      "metadata": {
        "colab": {
          "base_uri": "https://localhost:8080/"
        },
        "id": "bNh1bN26KoVn",
        "outputId": "8255eaa8-8ed3-4222-a343-fb0d3a0d6275"
      },
      "execution_count": null,
      "outputs": [
        {
          "output_type": "stream",
          "name": "stdout",
          "text": [
            "\n",
            "Survival count based on class:\n",
            " class\n",
            "First     136\n",
            "Second     87\n",
            "Third     119\n",
            "Name: survived, dtype: int64\n"
          ]
        },
        {
          "output_type": "stream",
          "name": "stderr",
          "text": [
            "<ipython-input-19-0471e5590d8c>:1: FutureWarning: The default of observed=False is deprecated and will be changed to True in a future version of pandas. Pass observed=False to retain current behavior or observed=True to adopt the future default and silence this warning.\n",
            "  class_survival = df.groupby('class')['survived'].sum()\n"
          ]
        }
      ]
    },
    {
      "cell_type": "code",
      "source": [
        "num_sibsp = df[df['sibsp'] > 0]['sibsp'].count()\n",
        "print(\"\\nNumber of passengers with siblings/spouses:\", num_sibsp)"
      ],
      "metadata": {
        "colab": {
          "base_uri": "https://localhost:8080/"
        },
        "id": "Py8mTc9eLVSW",
        "outputId": "a196d031-e6fb-4bcb-db93-c1e4bf8087ae"
      },
      "execution_count": null,
      "outputs": [
        {
          "output_type": "stream",
          "name": "stdout",
          "text": [
            "\n",
            "Number of passengers with siblings/spouses: 283\n"
          ]
        }
      ]
    },
    {
      "cell_type": "code",
      "source": [
        "num_parch = df[df['parch'] > 0]['parch'].count()\n",
        "print(\"\\nNumber of passengers with parents/children:\", num_parch)"
      ],
      "metadata": {
        "colab": {
          "base_uri": "https://localhost:8080/",
          "height": 106
        },
        "id": "RmCDIGNBLfZ2",
        "outputId": "3c9be200-6a7b-40c2-9da6-8ea77607a1ce"
      },
      "execution_count": null,
      "outputs": [
        {
          "output_type": "error",
          "ename": "SyntaxError",
          "evalue": "invalid non-printable character U+00A0 (<ipython-input-21-dde8a3df7a22>, line 2)",
          "traceback": [
            "\u001b[0;36m  File \u001b[0;32m\"<ipython-input-21-dde8a3df7a22>\"\u001b[0;36m, line \u001b[0;32m2\u001b[0m\n\u001b[0;31m    print(\"\\nNumber of passengers with parents/children:\", num_parch)\u001b[0m\n\u001b[0m                                                          ^\u001b[0m\n\u001b[0;31mSyntaxError\u001b[0m\u001b[0;31m:\u001b[0m invalid non-printable character U+00A0\n"
          ]
        }
      ]
    }
  ]
}